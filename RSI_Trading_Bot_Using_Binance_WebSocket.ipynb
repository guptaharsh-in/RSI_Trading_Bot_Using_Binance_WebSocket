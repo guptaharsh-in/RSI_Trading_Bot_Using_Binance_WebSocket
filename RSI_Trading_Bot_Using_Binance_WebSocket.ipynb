{
  "nbformat": 4,
  "nbformat_minor": 0,
  "metadata": {
    "colab": {
      "provenance": [],
      "authorship_tag": "ABX9TyNRC8cDYsBCzpv9Z4rxdd1S",
      "include_colab_link": true
    },
    "kernelspec": {
      "name": "python3",
      "display_name": "Python 3"
    },
    "language_info": {
      "name": "python"
    }
  },
  "cells": [
    {
      "cell_type": "markdown",
      "metadata": {
        "id": "view-in-github",
        "colab_type": "text"
      },
      "source": [
        "<a href=\"https://colab.research.google.com/github/guptaharsh-in/RSI_Trading_Bot_Using_Binance_WebSocket/blob/main/RSI_Trading_Bot_Using_Binance_WebSocket.ipynb\" target=\"_parent\"><img src=\"https://colab.research.google.com/assets/colab-badge.svg\" alt=\"Open In Colab\"/></a>"
      ]
    },
    {
      "cell_type": "code",
      "source": [
        "# Install and Import Talib\n",
        "!wget http://prdownloads.sourceforge.net/ta-lib/ta-lib-0.4.0-src.tar.gz\n",
        "!tar -xzvf ta-lib-0.4.0-src.tar.gz\n",
        "%cd ta-lib\n",
        "!./configure --prefix=/usr\n",
        "!make\n",
        "!make install\n",
        "!pip install Ta-Lib\n",
        "import talib"
      ],
      "metadata": {
        "id": "9rUqUhGR_ydV"
      },
      "execution_count": null,
      "outputs": []
    },
    {
      "cell_type": "code",
      "source": [
        "# Install and Import Websocket Client\n",
        "pip install websocket-client"
      ],
      "metadata": {
        "id": "nWbNoFE1_tH3"
      },
      "execution_count": null,
      "outputs": []
    },
    {
      "cell_type": "code",
      "source": [
        "# Import other Libraries\n",
        "import talib\n",
        "import websocket\n",
        "import requests\n",
        "import pandas as pd\n",
        "import numpy as np\n",
        "import json\n",
        "import ssl\n",
        "     "
      ],
      "metadata": {
        "id": "CAR2TD00_6Mt"
      },
      "execution_count": 159,
      "outputs": []
    },
    {
      "cell_type": "code",
      "source": [
        "# Connect to Binance Websocket\n",
        "cc= 'btcusd'\n",
        "interval = \"1m\" \n",
        "socket = f\"wss://stream.binance.com:9443/ws/{cc}t@kline_{interval}\""
      ],
      "metadata": {
        "id": "YLXu1-dBJPNJ"
      },
      "execution_count": null,
      "outputs": []
    },
    {
      "cell_type": "code",
      "source": [
        "# Trading Strategy Parameters\n",
        "amount=1000000\n",
        "money_remaining = 1000000\n",
        "portfolio = 0\n",
        "investment, closes, highs, lows = [], [], [], []\n",
        "buy_price = []\n",
        "sell_price = []\n",
        "rsi_signal = []\n",
        "signal = 0"
      ],
      "metadata": {
        "id": "z6a8yL90ARWg"
      },
      "execution_count": null,
      "outputs": []
    },
    {
      "cell_type": "code",
      "source": [
        "# Paper Trading Simulation Function\n",
        "def buy(allocated_money, price):\n",
        "    global closes,highs,lows, money_remaining, portfolio, investment, signal\n",
        "    quantity = allocated_money  / price\n",
        "    money_remaining -= quantity*price\n",
        "    portfolio += quantity \n",
        "    if investment == []:\n",
        "      investment.append(allocated_money)\n",
        "    else:\n",
        "      investment.append(allocated_money)\n",
        "      investment[-1] += investment[-2]\n",
        "\n",
        "def sell(allocated_money, price):\n",
        "    global closes,highs,lows, money_remaining, portfolio, investment, signal\n",
        "    quantity = allocated_money  / price\n",
        "    money_remaining += quantity*price\n",
        "    portfolio -= quantity \n",
        "    investment.append(-allocated_money)\n",
        "    investment[-1] += investment[-2]\n",
        "      \n",
        "    \n"
      ],
      "metadata": {
        "id": "2VA7Zfi_A22w"
      },
      "execution_count": null,
      "outputs": []
    },
    {
      "cell_type": "code",
      "source": [
        "# Fetch Live Data using Websocket Client\n",
        "def on_close(ws):\n",
        "  print(\"Close\")\n",
        "\n",
        "def on_message(ws, message):\n",
        "  global closes,highs,lows, money_remaining, portfolio, investment, signal, position\n",
        "  json_message = json.loads(message)\n",
        "  cs = json_message[\"k\"]\n",
        "  candle_closed, close, high, low = cs[\"x\"], cs[\"c\"],cs[\"h\"],cs[\"l\"]\n",
        "\n",
        "\n",
        "  if candle_closed:\n",
        "    closes.append(float(close))\n",
        "    highs.append(float(high))\n",
        "    lows.append(float(low))\n",
        "    last_price = closes[-1]\n",
        "    print(f'Closes : {closes[-5:]}')\n",
        "\n",
        "# RSI Strategy Using Ta-lib\n",
        "\n",
        "    rsi = talib.RSI(np.array(closes), timeperiod=3)\n",
        "    last_rsi=round(rsi[-1],2)\n",
        "    print(last_rsi)\n",
        " \n",
        "    if (rsi[-1] > 40 and rsi < 40).any():\n",
        "              if signal != 1:\n",
        "                buy_price.append(closes)\n",
        "                sell_price.append(np.nan)\n",
        "                signal = 1\n",
        "                rsi_signal.append(signal)\n",
        "              else:\n",
        "                buy_price.append(np.nan)\n",
        "                sell_price.append(np.nan)\n",
        "                rsi_signal.append(0)\n",
        "    elif (rsi[-1] < 60 and rsi > 60).any():\n",
        "              if signal != -1:\n",
        "                buy_price.append(np.nan)\n",
        "                sell_price.append(closes)\n",
        "                signal = -1\n",
        "                rsi_signal.append(signal)\n",
        "              else:\n",
        "                buy_price.append(np.nan)\n",
        "                sell_price.append(np.nan)\n",
        "                rsi_signal.append(0)\n",
        "    else:\n",
        "                buy_price.append(np.nan)\n",
        "                sell_price.append(np.nan)\n",
        "                rsi_signal.append(0)\n",
        "\n",
        "    print(rsi_signal[-5:])\n",
        "\n",
        "     \n",
        "# Generate Signal and Trade\n",
        "    if rsi_signal[-1] == 1:\n",
        "           buy(250000, last_price)\n",
        "           print(f'(Bitcoin Bought =\"{portfolio}\")')\n",
        "    elif rsi_signal[-1] == -1:\n",
        "           sell(250000, last_price)\n",
        "           print(f'(Bitcoin Sold =\"{portfolio}\")')\n",
        "    else:\n",
        "           print(\"No Trade\")\n",
        "\n",
        "\n",
        "\n",
        "wsapp = websocket.WebSocketApp(socket, on_message = on_message, on_close = on_close)"
      ],
      "metadata": {
        "id": "vXqK4av0I8kK"
      },
      "execution_count": null,
      "outputs": []
    },
    {
      "cell_type": "code",
      "source": [
        "# Real Time Trading Bot\n",
        "wsapp.run_forever()"
      ],
      "metadata": {
        "id": "dN6IDUw0I8n9"
      },
      "execution_count": null,
      "outputs": []
    },
    {
      "cell_type": "code",
      "source": [],
      "metadata": {
        "id": "IRuZGE85I827"
      },
      "execution_count": null,
      "outputs": []
    },
    {
      "cell_type": "code",
      "source": [],
      "metadata": {
        "id": "yV5sDWmWG0hq"
      },
      "execution_count": null,
      "outputs": []
    }
  ]
}